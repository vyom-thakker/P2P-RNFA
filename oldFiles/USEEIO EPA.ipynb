{
 "cells": [
  {
   "cell_type": "code",
   "execution_count": 3,
   "metadata": {},
   "outputs": [
    {
     "name": "stdout",
     "output_type": "stream",
     "text": [
      "INFO Checking for presence of all required model files...\n",
      "INFO Missing USEEIOv1.1_sat_c.csv\n",
      "INFO CSV files with _newG&Snames missing: ['USEEIO_Satellite_Energy_newG&Snames.csv', 'USEEIO_Satellite_GHG_newG&Snames.csv', 'USEEIO_Satellite_Land_newG&Snames.csv', 'USEEIO_Satellite_N&P_newG&Snames.csv', 'USEEIO_Satellite_TRI_newG&Snames.csv', 'USEEIO_Satellite_NEI_newG&Snames.csv', 'USEEIO_Satellite_ValueAdded_newG&Snames.csv', 'USEEIO_Satellite_Employment_newG&Snames.csv', 'USEEIO_Satellite_Pesticides_newG&Snames.csv', 'USEEIO_Satellite_Water_newG&Snames.csv', 'USEEIO_Satellite_Minerals_newG&Snames.csv']. Proceeding to check for original files\n",
      "ERROR Missing original csv files ['USEEIO_Satellite_ValueAdded.csv', 'USEEIO_Satellite_Employment.csv', 'USEEIO_Satellite_Pesticides.csv', 'USEEIO_Satellite_Water.csv', 'USEEIO_Satellite_Minerals.csv']\n",
      "INFO Extracting satellite tables from excel files...\n",
      "INFO CSV files with _newG&Snames missing: ['USEEIO_Satellite_Energy_newG&Snames.csv', 'USEEIO_Satellite_GHG_newG&Snames.csv', 'USEEIO_Satellite_Land_newG&Snames.csv', 'USEEIO_Satellite_N&P_newG&Snames.csv', 'USEEIO_Satellite_TRI_newG&Snames.csv', 'USEEIO_Satellite_NEI_newG&Snames.csv', 'USEEIO_Satellite_ValueAdded_newG&Snames.csv', 'USEEIO_Satellite_Employment_newG&Snames.csv', 'USEEIO_Satellite_Pesticides_newG&Snames.csv', 'USEEIO_Satellite_Water_newG&Snames.csv', 'USEEIO_Satellite_Minerals_newG&Snames.csv']. Proceeding to check for original files\n",
      "INFO Renaming sectors to USEEIO names in satellite tables...\n",
      "INFO Trying to build combined satellite table\n",
      "INFO Assembling model...\n",
      "take values for 2007_US_Consumption from colum 4\n",
      "INFO Wrote results files to model's results folder.\n"
     ]
    },
    {
     "name": "stderr",
     "output_type": "stream",
     "text": [
      "/home/psegroup_1/anaconda3/lib/python3.7/site-packages/iomb/calc.py:71: FutureWarning: Method .as_matrix will be removed in a future version. Use .values instead.\n",
      "  r.lcia_flow_contributions = scale_columns(iaf, r.lci_total.as_matrix())\n"
     ]
    }
   ],
   "source": [
    " \n",
    "import useeiopy\n",
    "\n",
    "#Assemble USEEIOv1.1\n",
    "#See README.md in useeiopy/Model Builds folder to see what files and folder need to be present before you can build a model\n",
    "#The assembly step for v.1.1 will download and unzip the USEEIOv1.1 satellite excel files from an EPA server the first\n",
    "#time its run; this may be slow.\n",
    "#This creates an iomb.model object\n",
    "\n",
    "useeio1pt1 = useeiopy.assemble(\"USEEIOv1.1\")\n",
    "\n",
    "#Print a validation file for the model\n",
    "useeiopy.validate(useeio1pt1)\n",
    "\n",
    "#Calculate a model\n",
    "useeiopy.calculate(useeio1pt1)"
   ]
  },
  {
   "cell_type": "code",
   "execution_count": null,
   "metadata": {},
   "outputs": [],
   "source": []
  },
  {
   "cell_type": "code",
   "execution_count": null,
   "metadata": {},
   "outputs": [],
   "source": []
  }
 ],
 "metadata": {
  "kernelspec": {
   "display_name": "Python 3",
   "language": "python",
   "name": "python3"
  },
  "language_info": {
   "codemirror_mode": {
    "name": "ipython",
    "version": 3
   },
   "file_extension": ".py",
   "mimetype": "text/x-python",
   "name": "python",
   "nbconvert_exporter": "python",
   "pygments_lexer": "ipython3",
   "version": "3.7.3"
  }
 },
 "nbformat": 4,
 "nbformat_minor": 2
}
